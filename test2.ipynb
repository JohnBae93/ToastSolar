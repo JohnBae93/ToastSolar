{
 "cells": [
  {
   "cell_type": "code",
   "execution_count": null,
   "metadata": {
    "collapsed": true
   },
   "outputs": [],
   "source": [
    "import numpy as np\n",
    "from keras.models import Sequential\n",
    "from keras.layers import Embedding\n",
    "from keras.layers import Conv1D, AveragePooling2D, Conv2D, RNN, LSTM\n",
    "from keras.layers import Dense, Dropout, Activation, Flatten\n",
    "from keras import losses\n",
    "from gensim.models import KeyedVectors\n",
    "from keras.preprocessing.sequence import pad_sequences\n",
    "from sklearn.model_selection import train_test_split\n",
    "\n",
    "\n",
    "NUM_ONCE_TRAIN = 1000\n",
    "PADDING_MAXLEN = 500\n",
    "\n",
    "trained_matrix = KeyedVectors.load_word2vec_format('data_noun_fasttext.vec', encoding='utf-8')\n",
    "# print(trained_matrix.most_similar('장학', topn=30))\n",
    "\n",
    "input_file = 'data_noun.txt'\n",
    "belong_file = 'data_belong_label.txt'\n",
    "property_file = 'data_property_label.txt'\n",
    "\n",
    "\n",
    "'''OUTPUT DATA'''\n",
    "fb = open(belong_file, 'r')\n",
    "fp = open(property_file, 'r')\n",
    "\n",
    "lines = fb.readlines()\n",
    "length_data = len(lines)\n",
    "length_label = 0\n",
    "\n",
    "output_train = []\n",
    "for line in lines:\n",
    "    lists = [int(x) for x in line.split(\" \")]\n",
    "    lists += [int(x) for x in fp.readline().split(\" \")]\n",
    "    length_label = len(lists)\n",
    "    output_train.append(lists)\n",
    "\n",
    "# print(output_train)\n",
    "output_train = np.array(output_train, dtype=np.int8)\n",
    "output_train = np.reshape(output_train, (length_data, length_label))\n",
    "print(output_train.shape)\n",
    "fb.close()\n",
    "fp.close()\n",
    "\n"
   ]
  },
  {
   "cell_type": "code",
   "execution_count": null,
   "metadata": {},
   "outputs": [],
   "source": [
    "\n",
    "\n",
    "'''INPUT DATA'''\n",
    "f = open(input_file, 'r')\n",
    "lines = f.readlines()\n",
    "f.close()\n",
    "input_train = np.array([], dtype=np.int8)\n",
    "print(len(lines))\n",
    "maxlen = 0\n",
    "for line in lines:\n",
    "    # print(line[0:5])\n",
    "    length = 0\n",
    "    word_vector = np.array([], dtype=np.int8)\n",
    "    for word in line.split():\n",
    "        try:\n",
    "            if len(word) == 1:    # 한글자 단어 제외\n",
    "                continue\n",
    "\n",
    "            word_vector = np.append(word_vector, trained_matrix[word])\n",
    "            length += 1\n",
    "            # word_vector.append(trained_matrix[word])\n",
    "        except:\n",
    "            pass\n",
    "    maxlen = max(maxlen, length)\n",
    "    # input_train.append(word_vector)\n",
    "    word_vector.reshape(length, 100)\n",
    "    input_train = np.append(input_train, word_vector)\n",
    "print(maxlen)\n"
   ]
  },
  {
   "cell_type": "code",
   "execution_count": null,
   "metadata": {},
   "outputs": [],
   "source": [
    "\n",
    "'''MODEL'''\n",
    "model = Sequential()\n",
    "model.add(LSTM(120, input_shape=(None, 100)))\n",
    "model.add(Dense(43, activation='sigmoid'))\n",
    "model.compile(loss='binary_crossentropy',\n",
    "              optimizer='adam',\n",
    "              metrics=['accuracy'])\n"
   ]
  },
  {
   "cell_type": "code",
   "execution_count": null,
   "metadata": {},
   "outputs": [],
   "source": [
    "x_train, x_test, y_train, y_test = train_test_split(input_train, output_train, test_size=0.2, random_state=42)\n",
    "x_len = len(x_train)\n",
    "print(x_len)\n",
    "x_train = np.asarray(x_train, dtype=np.int8)\n",
    "x_test = np.asarray(x_test, dtype=np.int8)"
   ]
  },
  {
   "cell_type": "code",
   "execution_count": null,
   "metadata": {},
   "outputs": [],
   "source": [
    "c = np.array([[]])\n",
    "c = np.append(c, [1,2,3])\n",
    "c.shape"
   ]
  },
  {
   "cell_type": "code",
   "execution_count": null,
   "metadata": {},
   "outputs": [],
   "source": []
  },
  {
   "cell_type": "code",
   "execution_count": null,
   "metadata": {},
   "outputs": [],
   "source": []
  },
  {
   "cell_type": "code",
   "execution_count": null,
   "metadata": {},
   "outputs": [],
   "source": []
  }
 ],
 "metadata": {
  "kernelspec": {
   "display_name": "Python 2",
   "language": "python",
   "name": "python2"
  },
  "language_info": {
   "codemirror_mode": {
    "name": "ipython",
    "version": 2
   },
   "file_extension": ".py",
   "mimetype": "text/x-python",
   "name": "python",
   "nbconvert_exporter": "python",
   "pygments_lexer": "ipython2",
   "version": "2.7.6"
  }
 },
 "nbformat": 4,
 "nbformat_minor": 0
}
