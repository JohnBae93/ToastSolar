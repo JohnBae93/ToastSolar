{
 "cells": [
  {
   "cell_type": "code",
   "execution_count": null,
   "metadata": {},
   "outputs": [
    {
     "name": "stderr",
     "output_type": "stream",
     "text": [
      "/home/ec2-user/anaconda3/lib/python3.6/site-packages/h5py/__init__.py:34: FutureWarning: Conversion of the second argument of issubdtype from `float` to `np.floating` is deprecated. In future, it will be treated as `np.float64 == np.dtype(float).type`.\n",
      "  from ._conv import register_converters as _register_converters\n",
      "Using TensorFlow backend.\n",
      "/home/ec2-user/anaconda3/lib/python3.6/importlib/_bootstrap.py:219: RuntimeWarning: compiletime version 3.5 of module 'tensorflow.python.framework.fast_tensor_util' does not match runtime version 3.6\n",
      "  return f(*args, **kwds)\n"
     ]
    }
   ],
   "source": [
    "import numpy as np\n",
    "\n",
    "from keras.datasets import mnist\n",
    "from matplotlib import pyplot as plt\n",
    "from keras.utils import np_utils\n",
    "from keras.layers import Conv2D, MaxPooling2D\n",
    "from keras.models import Sequential\n",
    "from keras.layers import Dense, Dropout, Activation, Flatten\n",
    "from keras import losses"
   ]
  },
  {
   "cell_type": "code",
   "execution_count": 33,
   "metadata": {
    "collapsed": true
   },
   "outputs": [],
   "source": [
    "import pprint\n",
    "import matplotlib.pyplot as plt"
   ]
  },
  {
   "cell_type": "code",
   "execution_count": 2,
   "metadata": {
    "collapsed": true
   },
   "outputs": [],
   "source": [
    "(x_train, y_train), (x_test, y_test) = mnist.load_data()"
   ]
  },
  {
   "cell_type": "code",
   "execution_count": 3,
   "metadata": {
    "collapsed": true
   },
   "outputs": [],
   "source": [
    "num_sv = 500\n",
    "num_ssv = 10000\n",
    "x_train_sv = x_train[0:num_sv]\n",
    "y_train_sv = y_train[0:num_sv]\n",
    "\n",
    "x_train_pssv = x_train[num_sv:num_ssv]\n",
    "x_train_ssv = x_train[0:num_ssv]"
   ]
  },
  {
   "cell_type": "code",
   "execution_count": 4,
   "metadata": {
    "collapsed": true
   },
   "outputs": [],
   "source": [
    "x_train_sv = x_train_sv.reshape(x_train_sv.shape[0], 1, 28, 28)\n",
    "x_test = x_test.reshape(x_test.shape[0], 1, 28, 28)\n",
    "\n",
    "x_train_pssv = x_train_pssv.reshape(x_train_pssv.shape[0],1,28,28)\n",
    "x_train_ssv = x_train_ssv.reshape(x_train_ssv.shape[0], 1, 28, 28)"
   ]
  },
  {
   "cell_type": "code",
   "execution_count": 5,
   "metadata": {
    "collapsed": true
   },
   "outputs": [],
   "source": [
    "x_train_sv = x_train_sv.astype('float32')\n",
    "x_test = x_test.astype('float32')\n",
    "\n",
    "x_train_pssv = x_train_pssv.astype('float32')\n",
    "x_train_ssv = x_train_ssv.astype('float32')"
   ]
  },
  {
   "cell_type": "code",
   "execution_count": 6,
   "metadata": {
    "collapsed": true
   },
   "outputs": [],
   "source": [
    "x_train_sv /= 255\n",
    "x_test /= 255\n",
    "\n",
    "x_train_pssv /= 255\n",
    "x_train_ssv /= 255"
   ]
  },
  {
   "cell_type": "code",
   "execution_count": 7,
   "metadata": {},
   "outputs": [
    {
     "name": "stdout",
     "output_type": "stream",
     "text": [
      "(9500, 10)\n",
      "(500, 10)\n",
      "(10000, 10)\n"
     ]
    }
   ],
   "source": [
    "y_train_sv = np_utils.to_categorical(y_train_sv, 10)\n",
    "y_test = np_utils.to_categorical(y_test, 10)\n",
    "\n",
    "y_train_add = np.zeros((x_train_ssv.shape[0] - x_train_sv.shape[0], 10))\n",
    "print(y_train_add.shape)\n",
    "print(y_train_sv.shape)\n",
    "y_train_ssv = np.append(y_train_sv, y_train_add).reshape(num_ssv,10)\n",
    "print(y_train_ssv.shape)"
   ]
  },
  {
   "cell_type": "code",
   "execution_count": 8,
   "metadata": {},
   "outputs": [
    {
     "name": "stdout",
     "output_type": "stream",
     "text": [
      "(9500, 10)\n",
      "((500, 1, 28, 28), (500, 10))\n",
      "((10000, 1, 28, 28), (10000, 10))\n",
      "(9500, 1, 28, 28)\n"
     ]
    }
   ],
   "source": [
    "print(y_train_add.shape)\n",
    "print((x_train_sv.shape, y_train_sv.shape))\n",
    "print((x_train_ssv.shape, y_train_ssv.shape))\n",
    "print(x_train_pssv.shape)"
   ]
  },
  {
   "cell_type": "code",
   "execution_count": 9,
   "metadata": {},
   "outputs": [
    {
     "name": "stdout",
     "output_type": "stream",
     "text": [
      "(None, 32, 26, 26)\n",
      "Epoch 1/2\n",
      "500/500 [==============================] - 2s 5ms/step - loss: 2.0113 - acc: 0.3400\n",
      "Epoch 2/2\n",
      "500/500 [==============================] - 2s 4ms/step - loss: 1.1166 - acc: 0.6460\n",
      "[0.8921383008003235, 0.7184]\n"
     ]
    }
   ],
   "source": [
    "model = Sequential()\n",
    "model.add(Conv2D(32, (3, 3), input_shape=(1, 28, 28), activation='relu', data_format='channels_first'))\n",
    "\n",
    "print(model.output_shape)\n",
    "\n",
    "model.add(Conv2D(32, (3, 3), activation='relu'))\n",
    "model.add(MaxPooling2D(pool_size=(2, 2)))\n",
    "model.add(Dropout(0.25))\n",
    "\n",
    "model.add(Flatten())\n",
    "model.add(Dense(128, activation='relu'))\n",
    "model.add(Dropout(0.5))\n",
    "model.add(Dense(10, activation='softmax'))\n",
    "\n",
    "model.compile(loss=losses.categorical_crossentropy,\n",
    "              optimizer='adam',\n",
    "              metrics=['accuracy'])\n",
    "model.fit(x_train_sv, y_train_sv,\n",
    "          batch_size=32, epochs=2, verbose=1)\n",
    "\n",
    "score = model.evaluate(x_test, y_test, verbose=0)\n",
    "print(score)"
   ]
  },
  {
   "cell_type": "code",
   "execution_count": 70,
   "metadata": {},
   "outputs": [
    {
     "name": "stdout",
     "output_type": "stream",
     "text": [
      "Epoch 1/2\n",
      "500/500 [==============================] - 18s 36ms/step - loss: 1.9495 - acc: 0.3260\n",
      "Epoch 2/2\n",
      "500/500 [==============================] - 17s 35ms/step - loss: 1.1030 - acc: 0.6540\n",
      "[0.8234539795398712, 0.7564]\n"
     ]
    }
   ],
   "source": []
  },
  {
   "cell_type": "code",
   "execution_count": 15,
   "metadata": {},
   "outputs": [
    {
     "name": "stdout",
     "output_type": "stream",
     "text": [
      "(None, 10)\n",
      "Epoch 1/2\n",
      "10000/10000 [==============================] - 43s 4ms/step - loss: 0.0776 - acc: 0.1434\n",
      "Epoch 2/2\n",
      "10000/10000 [==============================] - 42s 4ms/step - loss: 0.0309 - acc: 0.1394\n",
      "[0.5012403703212738, 0.8494]\n"
     ]
    }
   ],
   "source": [
    "# Unlabel training\n",
    "\n",
    "model2 = Sequential()\n",
    "model2.add(Conv2D(32, (3, 3), input_shape=(1, 28, 28), activation='relu', data_format='channels_first'))\n",
    "\n",
    "print(model.output_shape)\n",
    "\n",
    "model2.add(Conv2D(32, (3, 3), activation='relu'))\n",
    "model2.add(MaxPooling2D(pool_size=(2, 2)))\n",
    "model2.add(Dropout(0.25))\n",
    "\n",
    "model2.add(Flatten())\n",
    "model2.add(Dense(128, activation='relu'))\n",
    "model2.add(Dropout(0.5))\n",
    "model2.add(Dense(10, activation='softmax'))\n",
    "\n",
    "model2.compile(loss=losses.categorical_crossentropy,\n",
    "              optimizer='adam',\n",
    "              metrics=['accuracy'])\n",
    "model2.fit(x_train_ssv, y_train_ssv,\n",
    "          batch_size=32, epochs=2, verbose=1)\n",
    "\n",
    "score = model2.evaluate(x_test, y_test, verbose=0)\n",
    "print(score)"
   ]
  },
  {
   "cell_type": "code",
   "execution_count": 36,
   "metadata": {},
   "outputs": [
    {
     "name": "stdout",
     "output_type": "stream",
     "text": [
      "array([0., 0., 0., 0., 0., 0., 0., 0., 1., 0.])\n"
     ]
    },
    {
     "data": {
      "image/png": "[encoded data removed]",
      "text/plain": [
       "<matplotlib.figure.Figure at 0x7f3ee148bf98>"
      ]
     },
     "metadata": {},
     "output_type": "display_data"
    }
   ],
   "source": [
    "pp = pprint.PrettyPrinter()\n",
    "pp.pprint(y_train_ssv[499])\n",
    "plt.imshow(x_train_ssv[499].reshape(28, 28), cmap='gray')\n",
    "plt.show()\n"
   ]
  },
  {
   "cell_type": "code",
   "execution_count": 73,
   "metadata": {},
   "outputs": [
    {
     "name": "stdout",
     "output_type": "stream",
     "text": [
      "[0.6822373986721039, 0.7788]\n"
     ]
    }
   ],
   "source": [
    "score = model2.evaluate(x_test, y_test, verbose=0)\n",
    "print(score)"
   ]
  },
  {
   "cell_type": "code",
   "execution_count": null,
   "metadata": {},
   "outputs": [
    {
     "name": "stdout",
     "output_type": "stream",
     "text": [
      "(None, 32, 26, 26)\n"
     ]
    }
   ],
   "source": [
    "# Psudo Label training\n",
    "\n",
    "model3 = Sequential()\n",
    "model3.add(Conv2D(32, (3, 3), input_shape=(1, 28, 28), activation='relu', data_format='channels_first'))\n",
    "\n",
    "print(model3.output_shape)\n",
    "\n",
    "model3.add(Conv2D(32, (3, 3), activation='relu'))\n",
    "model3.add(MaxPooling2D(pool_size=(2, 2)))\n",
    "model3.add(Dropout(0.25))\n",
    "\n",
    "model3.add(Flatten())\n",
    "model3.add(Dense(128, activation='relu'))\n",
    "model3.add(Dropout(0.5))\n",
    "model3.add(Dense(10, activation='softmax'))\n",
    "\n",
    "model3.compile(loss=losses.categorical_crossentropy,\n",
    "              optimizer='adam',\n",
    "              metrics=['accuracy'])"
   ]
  },
  {
   "cell_type": "code",
   "execution_count": 11,
   "metadata": {},
   "outputs": [],
   "source": [
    "y_train_pssv = model.predict(x_train_pssv, batch_size=32)\n",
    "print((x_train_pssv.shape, y_train_pssv.shape))"
   ]
  },
  {
   "cell_type": "code",
   "execution_count": 12,
   "metadata": {},
   "outputs": [
    {
     "name": "stdout",
     "output_type": "stream",
     "text": [
      "((9500, 1, 28, 28), (9500, 10))\n"
     ]
    }
   ],
   "source": [
    "x_train_comb = np.append(x_train_sv, x_train_pssv).reshape(num_ssv, 1, 28, 28)\n",
    "y_train_comb = np.append(y_train_sv, y_train_pssv).reshape(num_ssv, 10)\n"
   ]
  },
  {
   "cell_type": "code",
   "execution_count": 13,
   "metadata": {},
   "outputs": [
    {
     "name": "stdout",
     "output_type": "stream",
     "text": [
      "((10000, 1, 28, 28), (10000, 10))\n"
     ]
    }
   ],
   "source": [
    "print((x_train_comb.shape, y_train_comb.shape))"
   ]
  },
  {
   "cell_type": "code",
   "execution_count": 14,
   "metadata": {},
   "outputs": [
    {
     "name": "stdout",
     "output_type": "stream",
     "text": [
      "Epoch 1/2\n",
      "10000/10000 [==============================] - 42s 4ms/step - loss: 1.2569 - acc: 0.8165\n",
      "Epoch 2/2\n",
      "10000/10000 [==============================] - 42s 4ms/step - loss: 1.1667 - acc: 0.8778\n",
      "[0.8429812489509583, 0.7497]\n"
     ]
    }
   ],
   "source": [
    "model3.fit(x_train_comb, y_train_comb,\n",
    "          batch_size=32, epochs=2, verbose=1)\n",
    "score3 = model3.evaluate(x_test, y_test, verbose=0)\n",
    "print(score3)"
   ]
  },
  {
   "cell_type": "code",
   "execution_count": null,
   "metadata": {
    "collapsed": true
   },
   "outputs": [],
   "source": []
  }
 ],
 "metadata": {
  "kernelspec": {
   "display_name": "Python 3",
   "language": "python",
   "name": "python3"
  },
  "language_info": {
   "codemirror_mode": {
    "name": "ipython",
    "version": 3
   },
   "file_extension": ".py",
   "mimetype": "text/x-python",
   "name": "python",
   "nbconvert_exporter": "python",
   "pygments_lexer": "ipython3",
   "version": "3.6.3"
  }
 },
 "nbformat": 4,
 "nbformat_minor": 2
}
