{
 "cells": [
  {
   "cell_type": "code",
   "execution_count": 16,
   "metadata": {},
   "outputs": [
    {
     "name": "stdout",
     "output_type": "stream",
     "text": [
      "(13029, 43)\n",
      "13029\n",
      "439\n"
     ]
    }
   ],
   "source": [
    "import numpy as np\n",
    "from keras.models import Sequential\n",
    "from keras.layers import Embedding\n",
    "from keras.layers import Conv1D, AveragePooling2D, Conv2D, RNN, LSTM\n",
    "from keras.layers import Dense, Dropout, Activation, Flatten\n",
    "from keras import losses\n",
    "from gensim.models import KeyedVectors\n",
    "from keras.preprocessing.sequence import pad_sequences\n",
    "from sklearn.model_selection import train_test_split\n",
    "\n",
    "\n",
    "NUM_ONCE_TRAIN = 1000\n",
    "PADDING_MAXLEN = 500\n",
    "\n",
    "trained_matrix = KeyedVectors.load_word2vec_format('data_noun_fasttext.vec', encoding='utf-8')\n",
    "# print(trained_matrix.most_similar('장학', topn=30))\n",
    "\n",
    "input_file = 'data_noun.txt'\n",
    "belong_file = 'data_belong_label.txt'\n",
    "property_file = 'data_property_label.txt'\n",
    "\n",
    "\n",
    "'''OUTPUT DATA'''\n",
    "fb = open(belong_file, 'r')\n",
    "fp = open(property_file, 'r')\n",
    "\n",
    "lines = fb.readlines()\n",
    "length_data = len(lines)\n",
    "length_label = 0\n",
    "\n",
    "output_train = []\n",
    "for line in lines:\n",
    "    lists = [int(x) for x in line.split(\" \")]\n",
    "    lists += [int(x) for x in fp.readline().split(\" \")]\n",
    "    length_label = len(lists)\n",
    "    output_train.append(lists)\n",
    "\n",
    "# print(output_train)\n",
    "output_train = np.array(output_train, dtype=np.int8)\n",
    "output_train = np.reshape(output_train, (length_data, length_label))\n",
    "print(output_train.shape)\n",
    "fb.close()\n",
    "fp.close()\n",
    "\n",
    "\n",
    "'''INPUT DATA'''\n",
    "f = open('data_noun.txt', 'r')\n",
    "lines = f.readlines()\n",
    "f.close()\n",
    "input_train = []\n",
    "print(len(lines))\n",
    "maxlen = 0\n",
    "for line in lines:\n",
    "    # print(line[0:5])\n",
    "    length = 0\n",
    "    word_vector = []\n",
    "    for word in line.split():\n",
    "        try:\n",
    "            if len(word) == 1:    # 한글자 단어 제외\n",
    "                continue\n",
    "            length += 1\n",
    "            word_vector.append(trained_matrix[word])\n",
    "        except:\n",
    "            pass\n",
    "    maxlen = max(maxlen, length)\n",
    "    input_train.append(word_vector)\n",
    "\n",
    "print(maxlen)\n"
   ]
  },
  {
   "cell_type": "code",
   "execution_count": 29,
   "metadata": {},
   "outputs": [
    {
     "name": "stdout",
     "output_type": "stream",
     "text": [
      "10423\n",
      "Epoch 1/3\n",
      "1000/1000 [==============================] - 29s 29ms/step - loss: 0.4936 - acc: 0.7992\n",
      "Epoch 2/3\n",
      "1000/1000 [==============================] - 28s 28ms/step - loss: 0.4263 - acc: 0.8243\n",
      "Epoch 3/3\n",
      "1000/1000 [==============================] - 28s 28ms/step - loss: 0.4248 - acc: 0.8243\n",
      "0\n",
      "Epoch 1/3\n",
      "1000/1000 [==============================] - 26s 26ms/step - loss: 0.4198 - acc: 0.8271\n",
      "Epoch 2/3\n",
      "1000/1000 [==============================] - 28s 28ms/step - loss: 0.4191 - acc: 0.8271\n",
      "Epoch 3/3\n",
      "1000/1000 [==============================] - 34s 34ms/step - loss: 0.4197 - acc: 0.8271\n",
      "1000\n",
      "Epoch 1/3\n",
      "1000/1000 [==============================] - 30s 30ms/step - loss: 0.4257 - acc: 0.8236\n",
      "Epoch 2/3\n",
      "1000/1000 [==============================] - 35s 35ms/step - loss: 0.4250 - acc: 0.8236\n",
      "Epoch 3/3\n",
      "1000/1000 [==============================] - 32s 32ms/step - loss: 0.4244 - acc: 0.8236\n",
      "2000\n",
      "Epoch 1/3\n",
      "1000/1000 [==============================] - 26s 26ms/step - loss: 0.4268 - acc: 0.8219\n",
      "Epoch 2/3\n",
      "1000/1000 [==============================] - 33s 33ms/step - loss: 0.4273 - acc: 0.8219\n",
      "Epoch 3/3\n",
      "1000/1000 [==============================] - 26s 26ms/step - loss: 0.4262 - acc: 0.8219\n",
      "3000\n",
      "Epoch 1/3\n",
      "1000/1000 [==============================] - 26s 26ms/step - loss: 0.4293 - acc: 0.8206\n",
      "Epoch 2/3\n",
      "1000/1000 [==============================] - 26s 26ms/step - loss: 0.4285 - acc: 0.8206\n",
      "Epoch 3/3\n",
      "1000/1000 [==============================] - 27s 27ms/step - loss: 0.4281 - acc: 0.8206\n",
      "4000\n",
      "Epoch 1/3\n",
      "1000/1000 [==============================] - 26s 26ms/step - loss: 0.4253 - acc: 0.8233\n",
      "Epoch 2/3\n",
      "1000/1000 [==============================] - 27s 27ms/step - loss: 0.4246 - acc: 0.8233\n",
      "Epoch 3/3\n",
      "1000/1000 [==============================] - 26s 26ms/step - loss: 0.4248 - acc: 0.8233\n",
      "5000\n",
      "Epoch 1/3\n",
      "1000/1000 [==============================] - 26s 26ms/step - loss: 0.4203 - acc: 0.8247\n",
      "Epoch 2/3\n",
      "1000/1000 [==============================] - 26s 26ms/step - loss: 0.4200 - acc: 0.8246\n",
      "Epoch 3/3\n",
      "1000/1000 [==============================] - 26s 26ms/step - loss: 0.4190 - acc: 0.8246\n",
      "6000\n",
      "Epoch 1/3\n",
      "1000/1000 [==============================] - 26s 26ms/step - loss: 0.4258 - acc: 0.8230\n",
      "Epoch 2/3\n",
      "1000/1000 [==============================] - 26s 26ms/step - loss: 0.4240 - acc: 0.8230\n",
      "Epoch 3/3\n",
      "1000/1000 [==============================] - 26s 26ms/step - loss: 0.4234 - acc: 0.8230\n",
      "7000\n",
      "Epoch 1/3\n",
      "1000/1000 [==============================] - 26s 26ms/step - loss: 0.4211 - acc: 0.8241\n",
      "Epoch 2/3\n",
      "1000/1000 [==============================] - 26s 26ms/step - loss: 0.4187 - acc: 0.8241\n",
      "Epoch 3/3\n",
      "1000/1000 [==============================] - 26s 26ms/step - loss: 0.4129 - acc: 0.8245\n",
      "8000\n",
      "Epoch 1/3\n",
      "1000/1000 [==============================] - 27s 27ms/step - loss: 0.4176 - acc: 0.8220\n",
      "Epoch 2/3\n",
      "1000/1000 [==============================] - 26s 26ms/step - loss: 0.4161 - acc: 0.8224\n",
      "Epoch 3/3\n",
      "1000/1000 [==============================] - 26s 26ms/step - loss: 0.4095 - acc: 0.8231\n",
      "9000\n",
      "Epoch 1/3\n",
      "423/423 [==============================] - 11s 27ms/step - loss: 0.4155 - acc: 0.8204\n",
      "Epoch 2/3\n",
      "423/423 [==============================] - 11s 27ms/step - loss: 0.4107 - acc: 0.8218\n",
      "Epoch 3/3\n",
      "423/423 [==============================] - 11s 27ms/step - loss: 0.4139 - acc: 0.8202\n",
      "10000\n"
     ]
    }
   ],
   "source": [
    "\n",
    "\n",
    "'''MODEL'''\n",
    "model = Sequential()\n",
    "model.add(LSTM(120, input_shape=(None, 100)))\n",
    "model.add(Dense(43, activation='sigmoid'))\n",
    "model.compile(loss='binary_crossentropy',\n",
    "              optimizer='adam',\n",
    "              metrics=['accuracy'])\n",
    "\n",
    "\n",
    "# input_train = input_train.reshape(input_train.shape[0], 1, 500, 100)\n",
    "'''SPLIT DATA'''\n",
    "x_train, x_test, y_train, y_test = train_test_split(input_train, output_train, test_size=0.2, random_state=42)\n",
    "x_len = len(x_train)\n",
    "print(x_len)\n",
    "\n",
    "i = 0\n",
    "while i < x_len:\n",
    "    x = x_train[i:i+NUM_ONCE_TRAIN]\n",
    "    y = y_train[i:i+NUM_ONCE_TRAIN]\n",
    "    x = pad_sequences(x, maxlen=500)\n",
    "#     x = x.reshape(x.shape[0],1,500,100)\n",
    "    model.fit(x, y, batch_size=16, epochs=3, verbose=1)\n",
    "    print(i)\n",
    "    i += NUM_ONCE_TRAIN\n",
    "\n"
   ]
  },
  {
   "cell_type": "code",
   "execution_count": 57,
   "metadata": {
    "collapsed": true
   },
   "outputs": [],
   "source": [
    "model.save('my_model.h5')"
   ]
  },
  {
   "cell_type": "code",
   "execution_count": 56,
   "metadata": {},
   "outputs": [
    {
     "ename": "MemoryError",
     "evalue": "",
     "traceback": [
      "\u001b[0;31m---------------------------------------------------------------------------\u001b[0m",
      "\u001b[0;31mMemoryError\u001b[0m                               Traceback (most recent call last)",
      "\u001b[0;32m<ipython-input-56-572e5a5df0e7>\u001b[0m in \u001b[0;36m<module>\u001b[0;34m()\u001b[0m\n\u001b[1;32m      3\u001b[0m \u001b[0;31m# print(input_train.shape)\u001b[0m\u001b[0;34m\u001b[0m\u001b[0;34m\u001b[0m\u001b[0m\n\u001b[1;32m      4\u001b[0m \u001b[0;34m\u001b[0m\u001b[0m\n\u001b[0;32m----> 5\u001b[0;31m \u001b[0mx_test\u001b[0m \u001b[0;34m=\u001b[0m \u001b[0mpad_sequences\u001b[0m\u001b[0;34m(\u001b[0m\u001b[0mx_test\u001b[0m\u001b[0;34m,\u001b[0m \u001b[0mmaxlen\u001b[0m\u001b[0;34m=\u001b[0m\u001b[0;36m500\u001b[0m\u001b[0;34m)\u001b[0m\u001b[0;34m\u001b[0m\u001b[0m\n\u001b[0m\u001b[1;32m      6\u001b[0m \u001b[0;31m# x_test = x.test.reshape(x_test.shape[0], 1, 500, 100)\u001b[0m\u001b[0;34m\u001b[0m\u001b[0;34m\u001b[0m\u001b[0m\n\u001b[1;32m      7\u001b[0m \u001b[0mscore\u001b[0m \u001b[0;34m=\u001b[0m \u001b[0mmodel\u001b[0m\u001b[0;34m.\u001b[0m\u001b[0mevaluate\u001b[0m\u001b[0;34m(\u001b[0m\u001b[0mx_test\u001b[0m\u001b[0;34m,\u001b[0m \u001b[0my_test\u001b[0m\u001b[0;34m)\u001b[0m\u001b[0;34m\u001b[0m\u001b[0m\n",
      "\u001b[0;32m~/anaconda3/lib/python3.6/site-packages/keras/preprocessing/sequence.py\u001b[0m in \u001b[0;36mpad_sequences\u001b[0;34m(sequences, maxlen, dtype, padding, truncating, value)\u001b[0m\n\u001b[1;32m     55\u001b[0m             \u001b[0;32mbreak\u001b[0m\u001b[0;34m\u001b[0m\u001b[0m\n\u001b[1;32m     56\u001b[0m \u001b[0;34m\u001b[0m\u001b[0m\n\u001b[0;32m---> 57\u001b[0;31m     \u001b[0mx\u001b[0m \u001b[0;34m=\u001b[0m \u001b[0;34m(\u001b[0m\u001b[0mnp\u001b[0m\u001b[0;34m.\u001b[0m\u001b[0mones\u001b[0m\u001b[0;34m(\u001b[0m\u001b[0;34m(\u001b[0m\u001b[0mnum_samples\u001b[0m\u001b[0;34m,\u001b[0m \u001b[0mmaxlen\u001b[0m\u001b[0;34m)\u001b[0m \u001b[0;34m+\u001b[0m \u001b[0msample_shape\u001b[0m\u001b[0;34m)\u001b[0m \u001b[0;34m*\u001b[0m \u001b[0mvalue\u001b[0m\u001b[0;34m)\u001b[0m\u001b[0;34m.\u001b[0m\u001b[0mastype\u001b[0m\u001b[0;34m(\u001b[0m\u001b[0mdtype\u001b[0m\u001b[0;34m)\u001b[0m\u001b[0;34m\u001b[0m\u001b[0m\n\u001b[0m\u001b[1;32m     58\u001b[0m     \u001b[0;32mfor\u001b[0m \u001b[0midx\u001b[0m\u001b[0;34m,\u001b[0m \u001b[0ms\u001b[0m \u001b[0;32min\u001b[0m \u001b[0menumerate\u001b[0m\u001b[0;34m(\u001b[0m\u001b[0msequences\u001b[0m\u001b[0;34m)\u001b[0m\u001b[0;34m:\u001b[0m\u001b[0;34m\u001b[0m\u001b[0m\n\u001b[1;32m     59\u001b[0m         \u001b[0;32mif\u001b[0m \u001b[0;32mnot\u001b[0m \u001b[0mlen\u001b[0m\u001b[0;34m(\u001b[0m\u001b[0ms\u001b[0m\u001b[0;34m)\u001b[0m\u001b[0;34m:\u001b[0m\u001b[0;34m\u001b[0m\u001b[0m\n",
      "\u001b[0;31mMemoryError\u001b[0m: "
     ],
     "output_type": "error"
    }
   ],
   "source": [
    "\n",
    "# input_train = pad_sequences(input_train, maxlen=500)\n",
    "# print(input_train.shape)\n",
    "\n",
    "x_test = pad_sequences(x_test, maxlen=500)\n",
    "# x_test = x.test.reshape(x_test.shape[0], 1, 500, 100)\n",
    "score = model.evaluate(x_test, y_test)\n",
    "print(score)"
   ]
  },
  {
   "cell_type": "code",
   "execution_count": null,
   "metadata": {
    "collapsed": true
   },
   "outputs": [],
   "source": [
    "model.predict()"
   ]
  },
  {
   "cell_type": "code",
   "execution_count": 52,
   "metadata": {
    "collapsed": true
   },
   "outputs": [],
   "source": [
    "test = [\"전자\", \"전기\", \"장학금\"]\n",
    "test_vector = [[]]\n",
    "for t in test:\n",
    "    try:\n",
    "        if len(t) == 1:    # 한글자 단어 제외\n",
    "            continue\n",
    "        test_vector[0].append(trained_matrix[t])\n",
    "    except:\n",
    "        pass"
   ]
  },
  {
   "cell_type": "code",
   "execution_count": 53,
   "metadata": {},
   "outputs": [
    {
     "name": "stdout",
     "output_type": "stream",
     "text": [
      "(1, 3, 100)\n",
      "(1, 500, 100)\n",
      "(1, 500, 100)\n"
     ]
    }
   ],
   "source": [
    "# print(np.array(x_test).shape)\n",
    "print(np.array(test_vector).shape)\n",
    "test_vector_input = pad_sequences(test_vector, maxlen=500)\n",
    "print(np.array(test_vector_input).shape)\n",
    "test_vector_input = test_vector_input.reshape(1, 500, 100)\n",
    "print(np.array(test_vector_input).shape)"
   ]
  },
  {
   "cell_type": "code",
   "execution_count": 54,
   "metadata": {
    "collapsed": true
   },
   "outputs": [],
   "source": [
    "a= model.predict(test_vector_input)"
   ]
  },
  {
   "cell_type": "code",
   "execution_count": 55,
   "metadata": {},
   "outputs": [
    {
     "name": "stdout",
     "output_type": "stream",
     "text": [
      "[[0.16 0.21 0.03 0.03 0.05 0.05 0.22 0.21 0.16 0.17 0.31 0.   0.3  0.17\n",
      "  0.19 0.22 0.18 0.32 0.17 0.25 0.05 0.19 0.19 0.18 0.28 0.28 0.29 0.3\n",
      "  0.07 0.07 0.25 0.03 0.01 0.03 0.22 0.22 0.01 0.29 0.02 0.15 0.17 0.71\n",
      "  0.  ]]\n"
     ]
    }
   ],
   "source": [
    "np.set_printoptions(threshold=43, precision=2, suppress=True)\n",
    "print(a)"
   ]
  },
  {
   "cell_type": "code",
   "execution_count": null,
   "metadata": {
    "collapsed": true
   },
   "outputs": [],
   "source": []
  }
 ],
 "metadata": {
  "kernelspec": {
   "display_name": "Python 3",
   "language": "python",
   "name": "python3"
  },
  "language_info": {
   "codemirror_mode": {
    "name": "ipython",
    "version": 3
   },
   "file_extension": ".py",
   "mimetype": "text/x-python",
   "name": "python",
   "nbconvert_exporter": "python",
   "pygments_lexer": "ipython3",
   "version": "3.6.3"
  }
 },
 "nbformat": 4,
 "nbformat_minor": 2
}
