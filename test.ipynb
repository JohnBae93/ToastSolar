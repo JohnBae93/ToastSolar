{
 "cells": [
  {
   "cell_type": "code",
   "execution_count": null,
   "metadata": {
    "collapsed": true
   },
   "outputs": [],
   "source": [
    "import numpy as np\n",
    "from keras.models import Sequential\n",
    "from keras.layers import Embedding\n",
    "from keras.layers import Conv1D, AveragePooling2D, Conv2D, RNN, LSTM\n",
    "from keras.layers import Dense, Dropout, Activation, Flatten\n",
    "from keras import losses\n",
    "from gensim.models import KeyedVectors\n",
    "from keras.preprocessing.sequence import pad_sequences\n",
    "from sklearn.model_selection import train_test_split\n",
    "\n",
    "\n",
    "NUM_ONCE_TRAIN = 1000\n",
    "PADDING_MAXLEN = 500\n",
    "\n",
    "trained_matrix = KeyedVectors.load_word2vec_format('data_noun_fasttext.vec', encoding='utf-8')\n",
    "# print(trained_matrix.most_similar('장학', topn=30))\n",
    "\n",
    "input_file = 'data_noun.txt'\n",
    "belong_file = 'data_belong_label.txt'\n",
    "property_file = 'data_property_label.txt'\n",
    "\n",
    "\n",
    "'''OUTPUT DATA'''\n",
    "fb = open(belong_file, 'r')\n",
    "fp = open(property_file, 'r')\n",
    "\n",
    "lines = fb.readlines()\n",
    "length_data = len(lines)\n",
    "length_label = 0\n",
    "\n",
    "output_train = []\n",
    "for line in lines:\n",
    "    lists = [int(x) for x in line.split(\" \")]\n",
    "    lists += [int(x) for x in fp.readline().split(\" \")]\n",
    "    length_label = len(lists)\n",
    "    output_train.append(lists)\n",
    "\n",
    "# print(output_train)\n",
    "output_train = np.array(output_train, dtype=np.int8)\n",
    "output_train = np.reshape(output_train, (length_data, length_label))\n",
    "print(output_train.shape)\n",
    "fb.close()\n",
    "fp.close()\n",
    "\n",
    "\n",
    "'''INPUT DATA'''\n",
    "f = open('data_noun.txt', 'r')\n",
    "lines = f.readlines()\n",
    "f.close()\n",
    "input_train = []\n",
    "print(len(lines))\n",
    "maxlen = 0\n",
    "for line in lines:\n",
    "    # print(line[0:5])\n",
    "    length = 0\n",
    "    word_vector = []\n",
    "    for word in line.split():\n",
    "        try:\n",
    "            if len(word) == 1:    # 한글자 단어 제외\n",
    "                continue\n",
    "            length += 1\n",
    "            word_vector.append(trained_matrix[word])\n",
    "        except:\n",
    "            pass\n",
    "    maxlen = max(maxlen, length)\n",
    "    input_train.append(word_vector)\n",
    "\n",
    "print(maxlen)\n"
   ]
  },
  {
   "cell_type": "code",
   "execution_count": null,
   "metadata": {},
   "outputs": [],
   "source": []
  },
  {
   "cell_type": "code",
   "execution_count": null,
   "metadata": {},
   "outputs": [],
   "source": [
    "\n",
    "\n",
    "'''MODEL'''\n",
    "model = Sequential()\n",
    "model.add(LSTM(120, input_shape=(None, 100)))\n",
    "model.add(Dense(43, activation='sigmoid'))\n",
    "model.compile(loss='binary_crossentropy',\n",
    "              optimizer='adam',\n",
    "              metrics=['accuracy'])\n",
    "\n",
    "\n",
    "# input_train = input_train.reshape(input_train.shape[0], 1, 500, 100)\n",
    "'''SPLIT DATA'''\n",
    "x_train, x_test, y_train, y_test = train_test_split(input_train, output_train, test_size=0.2, random_state=42)\n",
    "x_len = len(x_train)\n",
    "print(x_len)\n",
    "\n",
    "i = 0\n",
    "while i < x_len:\n",
    "    x = x_train[i:i+NUM_ONCE_TRAIN]\n",
    "    y = y_train[i:i+NUM_ONCE_TRAIN]\n",
    "    x = pad_sequences(x, maxlen=500)\n",
    "#     x = x.reshape(x.shape[0],1,500,100)\n",
    "    model.fit(x, y, batch_size=16, epochs=3, verbose=1)\n",
    "    print(i)\n",
    "    i += NUM_ONCE_TRAIN\n",
    "\n"
   ]
  },
  {
   "cell_type": "code",
   "execution_count": null,
   "metadata": {},
   "outputs": [],
   "source": [
    "model.save('my_model.h5')"
   ]
  },
  {
   "cell_type": "code",
   "execution_count": null,
   "metadata": {},
   "outputs": [],
   "source": [
    "\n",
    "# input_train = pad_sequences(input_train, maxlen=500)\n",
    "# print(input_train.shape)\n",
    "\n",
    "x_test = pad_sequences(x_test, maxlen=500)\n",
    "# x_test = x.test.reshape(x_test.shape[0], 1, 500, 100)\n",
    "score = model.evaluate(x_test, y_test)\n",
    "print(score)"
   ]
  },
  {
   "cell_type": "code",
   "execution_count": null,
   "metadata": {},
   "outputs": [],
   "source": [
    "test = [\"전자\", \"전기\", \"장학금\"]\n",
    "test_vector = [[]]\n",
    "for t in test:\n",
    "    try:\n",
    "        if len(t) == 1:    # 한글자 단어 제외\n",
    "            continue\n",
    "        test_vector[0].append(trained_matrix[t])\n",
    "    except:\n",
    "        pass"
   ]
  },
  {
   "cell_type": "code",
   "execution_count": null,
   "metadata": {},
   "outputs": [],
   "source": [
    "# print(np.array(x_test).shape)\n",
    "print(np.array(test_vector).shape)\n",
    "test_vector_input = pad_sequences(test_vector, maxlen=500)\n",
    "print(np.array(test_vector_input).shape)\n",
    "test_vector_input = test_vector_input.reshape(1, 500, 100)\n",
    "print(np.array(test_vector_input).shape)"
   ]
  },
  {
   "cell_type": "code",
   "execution_count": null,
   "metadata": {},
   "outputs": [],
   "source": [
    "a= model.predict(test_vector_input)\n",
    "np.set_printoptions(threshold=43, precision=2, suppress=True)\n",
    "print(a)"
   ]
  }
 ],
 "metadata": {
  "kernelspec": {
   "display_name": "Python 2",
   "language": "python",
   "name": "python2"
  },
  "language_info": {
   "codemirror_mode": {
    "name": "ipython",
    "version": 2
   },
   "file_extension": ".py",
   "mimetype": "text/x-python",
   "name": "python",
   "nbconvert_exporter": "python",
   "pygments_lexer": "ipython2",
   "version": "2.7.6"
  }
 },
 "nbformat": 4,
 "nbformat_minor": 0
}
